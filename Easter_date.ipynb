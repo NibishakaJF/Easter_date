{
 "cells": [
  {
   "cell_type": "code",
   "execution_count": 2,
   "id": "e4420374",
   "metadata": {},
   "outputs": [
    {
     "name": "stdout",
     "output_type": "stream",
     "text": [
      "Enter a year: 1997\n",
      "Easter for 1997 is on 3/30.\n"
     ]
    }
   ],
   "source": [
    "def calculate_easter_date(year):\n",
    "    \"\"\"\n",
    "    Calculates the date of Easter for a given year using the Meeus/Jones/Butcher algorithm.\n",
    "    \"\"\"\n",
    "    a = year % 19\n",
    "    b = year // 100\n",
    "    c = year % 100\n",
    "    d = b // 4\n",
    "    e = b % 4\n",
    "    f = (b + 8) // 25\n",
    "    g = (b - f + 1) // 3\n",
    "    h = (19 * a + b - d - g + 15) % 30\n",
    "    i = c // 4\n",
    "    k = c % 4\n",
    "    l = (32 + 2 * e + 2 * i - h - k) % 7\n",
    "    m = (a + 11 * h + 22 * l) // 451\n",
    "    month = (h + l - 7 * m + 114) // 31\n",
    "    day = ((h + l - 7 * m + 114) % 31) + 1\n",
    "    return month, day\n",
    "\n",
    "# Prompt user to enter year\n",
    "year = int(input(\"Enter a year: \"))\n",
    "\n",
    "# Calculate Easter date for the given year\n",
    "month, day = calculate_easter_date(year)\n",
    "\n",
    "# Output the date of Easter\n",
    "print(f\"Easter for {year} is on {month}/{day}.\")\n"
   ]
  },
  {
   "cell_type": "markdown",
   "id": "ffe7760b",
   "metadata": {},
   "source": [
    "To use this code, simply run the cell in your Jupyter Notebook and follow the prompt to enter a year. The code will then calculate the date of Easter Sunday for that year and print the result."
   ]
  }
 ],
 "metadata": {
  "kernelspec": {
   "display_name": "Python 3 (ipykernel)",
   "language": "python",
   "name": "python3"
  },
  "language_info": {
   "codemirror_mode": {
    "name": "ipython",
    "version": 3
   },
   "file_extension": ".py",
   "mimetype": "text/x-python",
   "name": "python",
   "nbconvert_exporter": "python",
   "pygments_lexer": "ipython3",
   "version": "3.9.12"
  }
 },
 "nbformat": 4,
 "nbformat_minor": 5
}
